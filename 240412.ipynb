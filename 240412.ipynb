{
  "nbformat": 4,
  "nbformat_minor": 0,
  "metadata": {
    "colab": {
      "provenance": [],
      "authorship_tag": "ABX9TyMzJrHw2hb5dNmOpL+K/NUD",
      "include_colab_link": true
    },
    "kernelspec": {
      "name": "python3",
      "display_name": "Python 3"
    },
    "language_info": {
      "name": "python"
    }
  },
  "cells": [
    {
      "cell_type": "markdown",
      "metadata": {
        "id": "view-in-github",
        "colab_type": "text"
      },
      "source": [
        "<a href=\"https://colab.research.google.com/github/MinseoMoon/aipython/blob/main/240412.ipynb\" target=\"_parent\"><img src=\"https://colab.research.google.com/assets/colab-badge.svg\" alt=\"Open In Colab\"/></a>"
      ]
    },
    {
      "cell_type": "markdown",
      "source": [
        "#다음 리스트에서 \"apple\" 요소를 출력하세요."
      ],
      "metadata": {
        "id": "mPgXfx29CpeX"
      }
    },
    {
      "cell_type": "code",
      "execution_count": null,
      "metadata": {
        "colab": {
          "base_uri": "https://localhost:8080/"
        },
        "id": "ZFjc29uuCnNf",
        "outputId": "049e5940-10b0-49f9-bd78-561e958a3242"
      },
      "outputs": [
        {
          "output_type": "stream",
          "name": "stdout",
          "text": [
            "apple\n"
          ]
        }
      ],
      "source": [
        "fruits= [\"banana\",\"apple\",\"orange\",\"cherry\"]\n",
        "print(fruits[1])"
      ]
    },
    {
      "cell_type": "markdown",
      "source": [
        "#다음 리스트에서 마지막 요소를 출력하세요."
      ],
      "metadata": {
        "id": "wWYGh_yYDFJv"
      }
    },
    {
      "cell_type": "code",
      "source": [
        "numbers=[10,20,30,40,50]\n",
        "print(numbers[-1])"
      ],
      "metadata": {
        "colab": {
          "base_uri": "https://localhost:8080/"
        },
        "id": "LLBNHvC4DJF_",
        "outputId": "a67a2441-d076-41ea-d0f1-2b554b6eab3b"
      },
      "execution_count": null,
      "outputs": [
        {
          "output_type": "stream",
          "name": "stdout",
          "text": [
            "50\n"
          ]
        }
      ]
    },
    {
      "cell_type": "markdown",
      "source": [
        "#다음 리스트에서 \"banana\" 요소를 \"grape\"로 변경하세요."
      ],
      "metadata": {
        "id": "n-ekIveWDX0O"
      }
    },
    {
      "cell_type": "code",
      "source": [
        "fruits= [\"apple\",\"banana\",\"cherry\"]\n",
        "fruits.pop(1)\n",
        "fruits.insert(1,\"grape\")\n",
        "print(fruits)"
      ],
      "metadata": {
        "colab": {
          "base_uri": "https://localhost:8080/"
        },
        "id": "XNJziMK7DdcO",
        "outputId": "98422c97-50fb-4e3a-84a6-289f0908f0b6"
      },
      "execution_count": null,
      "outputs": [
        {
          "output_type": "stream",
          "name": "stdout",
          "text": [
            "['apple', 'grape', 'cherry']\n"
          ]
        }
      ]
    },
    {
      "cell_type": "markdown",
      "source": [
        "#다음 리스트에 \"strawberry\" 요소를 추가하세요."
      ],
      "metadata": {
        "id": "gTgku7hID3xV"
      }
    },
    {
      "cell_type": "code",
      "source": [
        "fruits= [\"apple\",\"banana\",\"cherry\"]\n",
        "fruits.append(\"strawberry\")\n",
        "print(fruits)"
      ],
      "metadata": {
        "colab": {
          "base_uri": "https://localhost:8080/"
        },
        "id": "_q4Jl-CbD9Ht",
        "outputId": "d346698c-d8f0-4be7-dfb2-d220a19097cd"
      },
      "execution_count": null,
      "outputs": [
        {
          "output_type": "stream",
          "name": "stdout",
          "text": [
            "['apple', 'banana', 'cherry', 'strawberry']\n"
          ]
        }
      ]
    },
    {
      "cell_type": "markdown",
      "source": [
        "#다음 리스트에서 30을 제거하세요"
      ],
      "metadata": {
        "id": "hz_OyHn6EFSm"
      }
    },
    {
      "cell_type": "code",
      "source": [
        "numbers=[10,20,30,40,50]\n",
        "numbers.remove(30)\n",
        "print(numbers)"
      ],
      "metadata": {
        "colab": {
          "base_uri": "https://localhost:8080/"
        },
        "id": "dPIz3ErHEJ5-",
        "outputId": "6d9b61ef-7248-4277-db46-56c52e902d8b"
      },
      "execution_count": null,
      "outputs": [
        {
          "output_type": "stream",
          "name": "stdout",
          "text": [
            "[10, 20, 40, 50]\n"
          ]
        }
      ]
    },
    {
      "cell_type": "markdown",
      "source": [
        "#다음 리스트의 길이를 출력하세요."
      ],
      "metadata": {
        "id": "wU7Ghg2OEHhu"
      }
    },
    {
      "cell_type": "code",
      "source": [
        "numbers=[5,10,15,20,25]\n",
        "print(\"리스트의 길이: \",len(numbers))"
      ],
      "metadata": {
        "colab": {
          "base_uri": "https://localhost:8080/"
        },
        "id": "x333fc4VEUP2",
        "outputId": "9df631c8-2315-4b07-bc9b-5d9aca86d705"
      },
      "execution_count": null,
      "outputs": [
        {
          "output_type": "stream",
          "name": "stdout",
          "text": [
            "리스트의 길이:  5\n"
          ]
        }
      ]
    },
    {
      "cell_type": "markdown",
      "source": [
        "#다음 리스트에서 가장 작은 값, 가장 큰 값을 찾아 출력하세요."
      ],
      "metadata": {
        "id": "0kFWbMarET7-"
      }
    },
    {
      "cell_type": "code",
      "source": [
        "numbers=[10,5,8,3,15]\n",
        "print(\"최솟값:\",min(numbers))\n",
        "print(\"최댓값:\",max(numbers))"
      ],
      "metadata": {
        "colab": {
          "base_uri": "https://localhost:8080/"
        },
        "id": "KtcKAxcjEoQW",
        "outputId": "ccca8446-ed9d-4bf4-c3dd-2f286553da9f"
      },
      "execution_count": null,
      "outputs": [
        {
          "output_type": "stream",
          "name": "stdout",
          "text": [
            "최솟값: 3\n",
            "최댓값: 15\n"
          ]
        }
      ]
    },
    {
      "cell_type": "markdown",
      "source": [
        "#다음 리스트의 모든 요소의 합을 계산하여 출력하세요."
      ],
      "metadata": {
        "id": "BYadksLgE3h-"
      }
    },
    {
      "cell_type": "code",
      "source": [
        "numbers=[10,20,30,40,50]\n",
        "print(\"합계:\",sum(numbers))"
      ],
      "metadata": {
        "colab": {
          "base_uri": "https://localhost:8080/"
        },
        "id": "GuVt2llJE8PG",
        "outputId": "a59c1bcb-5d92-4125-c5b2-73603db6dfb1"
      },
      "execution_count": null,
      "outputs": [
        {
          "output_type": "stream",
          "name": "stdout",
          "text": [
            "합계: 150\n"
          ]
        }
      ]
    },
    {
      "cell_type": "markdown",
      "source": [
        "#다음 리스트의 모든 요소를 제곱하여 새로운 리스트를 생성하세요."
      ],
      "metadata": {
        "id": "3fhvwdy1FZPF"
      }
    },
    {
      "cell_type": "code",
      "source": [
        "numbers=[1,2,3,4,5]\n",
        "newlist=[]\n",
        "for i in numbers:\n",
        "  newlist.append(i**2)\n",
        "print(newlist)"
      ],
      "metadata": {
        "colab": {
          "base_uri": "https://localhost:8080/"
        },
        "id": "WqZqPzfVFc1e",
        "outputId": "ab5de123-57d9-475f-e278-2c1d80e01044"
      },
      "execution_count": null,
      "outputs": [
        {
          "output_type": "stream",
          "name": "stdout",
          "text": [
            "[1, 4, 9, 16, 25]\n"
          ]
        }
      ]
    },
    {
      "cell_type": "code",
      "source": [
        "numbers=[1,2,3,4,5]\n",
        "def square(numbers):\n",
        "  newlist=[]\n",
        "  for num in numbers:\n",
        "    newlist.append(num**2)\n",
        "  return newlist\n",
        "result = square(numbers)\n",
        "print(result)"
      ],
      "metadata": {
        "colab": {
          "base_uri": "https://localhost:8080/"
        },
        "id": "BYaFt8HmN6VE",
        "outputId": "640a6199-e1d9-442a-953f-8ce1ea61f2a2"
      },
      "execution_count": null,
      "outputs": [
        {
          "output_type": "stream",
          "name": "stdout",
          "text": [
            "[1, 4, 9, 16, 25]\n"
          ]
        }
      ]
    },
    {
      "cell_type": "code",
      "source": [
        "def double(x):\n",
        "  result = x ** 2\n",
        "  return result\n",
        "numbers=[1,2,3,4,5]\n",
        "newlist=[]\n",
        "for i in numbers:\n",
        "  newlist.append(double(i))\n",
        "print(newlist)"
      ],
      "metadata": {
        "colab": {
          "base_uri": "https://localhost:8080/"
        },
        "id": "VtlDC_XaLYQV",
        "outputId": "1d9aa269-cccc-4701-cbd1-488d33042b0f"
      },
      "execution_count": null,
      "outputs": [
        {
          "output_type": "stream",
          "name": "stdout",
          "text": [
            "[1, 4, 9, 16, 25]\n"
          ]
        }
      ]
    },
    {
      "cell_type": "markdown",
      "source": [
        "#다음 리스트에서 \"apple\" 요소의 개수를 출력하세요."
      ],
      "metadata": {
        "id": "I84jhoETE79P"
      }
    },
    {
      "cell_type": "code",
      "source": [
        "fruits= [\"apple\",\"banana\", \"apple\", \"cherry\", \"apple\"]\n",
        "print(fruits.count(\"apple\"))"
      ],
      "metadata": {
        "colab": {
          "base_uri": "https://localhost:8080/"
        },
        "id": "wsGYqCjGFMdO",
        "outputId": "9f26389e-5d7b-4636-93db-0560355c1543"
      },
      "execution_count": null,
      "outputs": [
        {
          "output_type": "stream",
          "name": "stdout",
          "text": [
            "3\n"
          ]
        }
      ]
    },
    {
      "cell_type": "markdown",
      "source": [
        "#BMI계산기"
      ],
      "metadata": {
        "id": "Pk20q32wRT0i"
      }
    },
    {
      "cell_type": "code",
      "source": [
        "def BMI(h,m):\n",
        "  result= m/((h/100)**2)\n",
        "  return result\n",
        "결과 = BMI(190,90)\n",
        "print(결과)"
      ],
      "metadata": {
        "colab": {
          "base_uri": "https://localhost:8080/"
        },
        "id": "Gwzg2ORgO8dD",
        "outputId": "358c0a40-a9a2-4cc8-c3d8-6a3502f25e11"
      },
      "execution_count": null,
      "outputs": [
        {
          "output_type": "stream",
          "name": "stdout",
          "text": [
            "24.930747922437675\n"
          ]
        }
      ]
    },
    {
      "cell_type": "markdown",
      "source": [],
      "metadata": {
        "id": "-9TQDS-OFHc2"
      }
    }
  ]
}