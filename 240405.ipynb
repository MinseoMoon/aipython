{
  "nbformat": 4,
  "nbformat_minor": 0,
  "metadata": {
    "colab": {
      "provenance": [],
      "authorship_tag": "ABX9TyPShQQQvGkj082EbSTZn1DZ",
      "include_colab_link": true
    },
    "kernelspec": {
      "name": "python3",
      "display_name": "Python 3"
    },
    "language_info": {
      "name": "python"
    }
  },
  "cells": [
    {
      "cell_type": "markdown",
      "metadata": {
        "id": "view-in-github",
        "colab_type": "text"
      },
      "source": [
        "<a href=\"https://colab.research.google.com/github/MinseoMoon/aipython/blob/main/240405.ipynb\" target=\"_parent\"><img src=\"https://colab.research.google.com/assets/colab-badge.svg\" alt=\"Open In Colab\"/></a>"
      ]
    },
    {
      "cell_type": "markdown",
      "source": [
        "#a에 할당된 값의 짝수 홀수 여부를 알려주는 프로그램"
      ],
      "metadata": {
        "id": "q3nVEsis5njT"
      }
    },
    {
      "cell_type": "code",
      "source": [
        "a=int(input())\n",
        "if a%2==0:\n",
        "  print(\"a는 짝수입니다\")\n",
        "elif a%2==1:\n",
        "  print(\"a는 홀수입니다\")"
      ],
      "metadata": {
        "colab": {
          "base_uri": "https://localhost:8080/"
        },
        "id": "2B0Pmotw3tU7",
        "outputId": "724392ef-74d0-4def-da8d-6d3ffa45cd70"
      },
      "execution_count": 19,
      "outputs": [
        {
          "output_type": "stream",
          "name": "stdout",
          "text": [
            "30\n",
            "a는 짝수입니다\n"
          ]
        }
      ]
    },
    {
      "cell_type": "markdown",
      "source": [
        "#0에서 100사이 점수를 입력받아서 90점이상 A, 80점 이상 B, 70점 이상 C, 60점 이상 D, 그 외 F"
      ],
      "metadata": {
        "id": "dkmml8xp94yk"
      }
    },
    {
      "cell_type": "code",
      "source": [
        "score=int(input())\n",
        "if score >=90:\n",
        "  print(\"A\")\n",
        "elif score >=80:\n",
        "  print(\"B\")\n",
        "elif score >=70:\n",
        "  print(\"C\")\n",
        "elif score >=60:\n",
        "  print(\"D\")\n",
        "else:\n",
        "  print(\"F\")"
      ],
      "metadata": {
        "colab": {
          "base_uri": "https://localhost:8080/"
        },
        "id": "iT5N9_k0-FZa",
        "outputId": "5ff00a51-a160-42c7-ab83-6e6606c5c471"
      },
      "execution_count": 38,
      "outputs": [
        {
          "output_type": "stream",
          "name": "stdout",
          "text": [
            "50\n",
            "F\n"
          ]
        }
      ]
    },
    {
      "cell_type": "code",
      "source": [
        "score = int(input(\"점수를 입력하세요: \"))\n",
        "\n",
        "if score >= 0 and score <= 100:\n",
        "    if score >= 90:\n",
        "        grade = \"A\"\n",
        "    elif score >= 80:\n",
        "        grade = \"B\"\n",
        "    elif score >= 70:\n",
        "        grade = \"C\"\n",
        "    elif score >= 60:\n",
        "        grade = \"D\"\n",
        "    else:\n",
        "        grade = \"F\"\n",
        "    print(\"등급:\", grade)\n",
        "else:\n",
        "    print(\"유효하지 않은 점수입니다. 0에서 100 사이의 점수를 입력하세요.\")"
      ],
      "metadata": {
        "colab": {
          "base_uri": "https://localhost:8080/"
        },
        "id": "vaX78rUTBmBj",
        "outputId": "125a0d9f-7a48-4659-d09b-18978d17d165"
      },
      "execution_count": 39,
      "outputs": [
        {
          "output_type": "stream",
          "name": "stdout",
          "text": [
            "점수를 입력하세요: 300\n",
            "유효하지 않은 점수입니다. 0에서 100 사이의 점수를 입력하세요.\n"
          ]
        }
      ]
    },
    {
      "cell_type": "code",
      "source": [
        "a=[1,2,3,4,5]\n",
        "for i in a:\n",
        "    print(i, end=\" \")"
      ],
      "metadata": {
        "colab": {
          "base_uri": "https://localhost:8080/"
        },
        "id": "TtVHDtt1GxX7",
        "outputId": "e77d568e-f6ac-4817-ce07-83fc962830ff"
      },
      "execution_count": 45,
      "outputs": [
        {
          "output_type": "stream",
          "name": "stdout",
          "text": [
            "1 2 3 4 5 "
          ]
        }
      ]
    },
    {
      "cell_type": "code",
      "source": [
        "a=[1,2,3,4,5]\n",
        "b=0\n",
        "for i in a:\n",
        "    print(i)\n",
        "    b+=i\n",
        "print(b)"
      ],
      "metadata": {
        "colab": {
          "base_uri": "https://localhost:8080/"
        },
        "id": "F-c1rJyZGUNi",
        "outputId": "5c10a88d-6b04-440f-8a65-6f71086ef71f"
      },
      "execution_count": 41,
      "outputs": [
        {
          "output_type": "stream",
          "name": "stdout",
          "text": [
            "1\n",
            "2\n",
            "3\n",
            "4\n",
            "5\n",
            "15\n"
          ]
        }
      ]
    },
    {
      "cell_type": "markdown",
      "source": [
        "#1에서 100 사이의 홀수(짝수)만 나타내시오"
      ],
      "metadata": {
        "id": "kVa_4qmyIPAD"
      }
    },
    {
      "cell_type": "code",
      "source": [
        "#홀수라면\n",
        "for i in range(1,101,2):\n",
        "  print(i)"
      ],
      "metadata": {
        "colab": {
          "base_uri": "https://localhost:8080/"
        },
        "id": "Dx5q6C8ZIS-L",
        "outputId": "db9bfebd-7573-4b78-81bc-6d70bb644f53"
      },
      "execution_count": 47,
      "outputs": [
        {
          "output_type": "stream",
          "name": "stdout",
          "text": [
            "1\n",
            "3\n",
            "5\n",
            "7\n",
            "9\n",
            "11\n",
            "13\n",
            "15\n",
            "17\n",
            "19\n",
            "21\n",
            "23\n",
            "25\n",
            "27\n",
            "29\n",
            "31\n",
            "33\n",
            "35\n",
            "37\n",
            "39\n",
            "41\n",
            "43\n",
            "45\n",
            "47\n",
            "49\n",
            "51\n",
            "53\n",
            "55\n",
            "57\n",
            "59\n",
            "61\n",
            "63\n",
            "65\n",
            "67\n",
            "69\n",
            "71\n",
            "73\n",
            "75\n",
            "77\n",
            "79\n",
            "81\n",
            "83\n",
            "85\n",
            "87\n",
            "89\n",
            "91\n",
            "93\n",
            "95\n",
            "97\n",
            "99\n"
          ]
        }
      ]
    },
    {
      "cell_type": "code",
      "source": [
        "#continue문을 이용하여 / 홀수만 표시하라고 했으면 조건은 짝수가 될 수 있는 조건으로 표시\n",
        "for i in range(1,101):\n",
        "  if i%2==0:\n",
        "    continue\n",
        "  print(i)"
      ],
      "metadata": {
        "colab": {
          "base_uri": "https://localhost:8080/"
        },
        "id": "mF_cWvNgJULi",
        "outputId": "a884d032-b93b-4c77-a891-340b81947a90"
      },
      "execution_count": 52,
      "outputs": [
        {
          "output_type": "stream",
          "name": "stdout",
          "text": [
            "1\n",
            "3\n",
            "5\n",
            "7\n",
            "9\n",
            "11\n",
            "13\n",
            "15\n",
            "17\n",
            "19\n",
            "21\n",
            "23\n",
            "25\n",
            "27\n",
            "29\n",
            "31\n",
            "33\n",
            "35\n",
            "37\n",
            "39\n",
            "41\n",
            "43\n",
            "45\n",
            "47\n",
            "49\n",
            "51\n",
            "53\n",
            "55\n",
            "57\n",
            "59\n",
            "61\n",
            "63\n",
            "65\n",
            "67\n",
            "69\n",
            "71\n",
            "73\n",
            "75\n",
            "77\n",
            "79\n",
            "81\n",
            "83\n",
            "85\n",
            "87\n",
            "89\n",
            "91\n",
            "93\n",
            "95\n",
            "97\n",
            "99\n"
          ]
        }
      ]
    },
    {
      "cell_type": "code",
      "source": [
        "#break문을 쓴다면?\n",
        "for i in range(1,101):\n",
        "  if i%2==0:\n",
        "    break\n",
        "  print(i)"
      ],
      "metadata": {
        "colab": {
          "base_uri": "https://localhost:8080/"
        },
        "id": "WTzkQJzZKUVz",
        "outputId": "6be15013-f2d6-4f92-9fcf-c8eed5aafed5"
      },
      "execution_count": 53,
      "outputs": [
        {
          "output_type": "stream",
          "name": "stdout",
          "text": [
            "1\n"
          ]
        }
      ]
    },
    {
      "cell_type": "code",
      "source": [
        "#짝수 라면\n",
        "for i in range(0,101,2):\n",
        "  print(i)"
      ],
      "metadata": {
        "colab": {
          "base_uri": "https://localhost:8080/"
        },
        "id": "yO29Eue4I2GM",
        "outputId": "9c19f819-9427-478a-8444-efd21a5ff07c"
      },
      "execution_count": 48,
      "outputs": [
        {
          "output_type": "stream",
          "name": "stdout",
          "text": [
            "0\n",
            "2\n",
            "4\n",
            "6\n",
            "8\n",
            "10\n",
            "12\n",
            "14\n",
            "16\n",
            "18\n",
            "20\n",
            "22\n",
            "24\n",
            "26\n",
            "28\n",
            "30\n",
            "32\n",
            "34\n",
            "36\n",
            "38\n",
            "40\n",
            "42\n",
            "44\n",
            "46\n",
            "48\n",
            "50\n",
            "52\n",
            "54\n",
            "56\n",
            "58\n",
            "60\n",
            "62\n",
            "64\n",
            "66\n",
            "68\n",
            "70\n",
            "72\n",
            "74\n",
            "76\n",
            "78\n",
            "80\n",
            "82\n",
            "84\n",
            "86\n",
            "88\n",
            "90\n",
            "92\n",
            "94\n",
            "96\n",
            "98\n",
            "100\n"
          ]
        }
      ]
    },
    {
      "cell_type": "markdown",
      "source": [
        "# 짝수 합, 홀수 합"
      ],
      "metadata": {
        "id": "qD14GlPTLGbS"
      }
    },
    {
      "cell_type": "code",
      "source": [
        "짝수합=0\n",
        "홀수합=0\n",
        "\n",
        "for i in range(1,101):\n",
        "  if i%2==1:\n",
        "    홀수합+=i\n",
        "  else:\n",
        "    짝수합+=i\n",
        "print(짝수합)\n",
        "print(홀수합)"
      ],
      "metadata": {
        "colab": {
          "base_uri": "https://localhost:8080/"
        },
        "id": "oSLP3Zz9LFyz",
        "outputId": "7fa2ddd5-9403-40eb-bd03-8857f2145f9e"
      },
      "execution_count": 62,
      "outputs": [
        {
          "output_type": "stream",
          "name": "stdout",
          "text": [
            "2550\n",
            "2500\n"
          ]
        }
      ]
    },
    {
      "cell_type": "markdown",
      "source": [
        "#하나의 숫자 n를 입력 받아서 때, 1부터 n까지 합을 구하는 프로그램을 작성하시오."
      ],
      "metadata": {
        "id": "YzkvLXhVP3fy"
      }
    },
    {
      "cell_type": "code",
      "source": [
        "#n의 값을 입력\n",
        "n= int(input())\n",
        "tot=0\n",
        "\n",
        "#1에서 n까지 반복\n",
        "for i in range(n+1):\n",
        "    tot+=i\n",
        "print(tot)"
      ],
      "metadata": {
        "colab": {
          "base_uri": "https://localhost:8080/"
        },
        "id": "FSLkOx4QOgv7",
        "outputId": "c649e89d-1469-4959-c998-2c0c4cea54e9"
      },
      "execution_count": 72,
      "outputs": [
        {
          "output_type": "stream",
          "name": "stdout",
          "text": [
            "10\n",
            "11\n"
          ]
        }
      ]
    }
  ]
}