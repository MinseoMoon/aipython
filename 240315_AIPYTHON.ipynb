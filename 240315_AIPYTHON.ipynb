{
  "nbformat": 4,
  "nbformat_minor": 0,
  "metadata": {
    "colab": {
      "provenance": []
    },
    "kernelspec": {
      "name": "python3",
      "display_name": "Python 3"
    },
    "language_info": {
      "name": "python"
    }
  },
  "cells": [
    {
      "cell_type": "markdown",
      "source": [
        "#####두 수를 입력받아서 합을 출력하는 프로그램"
      ],
      "metadata": {
        "id": "fcfT9_nM_-Y1"
      }
    },
    {
      "cell_type": "code",
      "execution_count": 1,
      "metadata": {
        "colab": {
          "base_uri": "https://localhost:8080/"
        },
        "id": "xQsShTDy-V8U",
        "outputId": "17f19fde-398f-420f-c7b7-034195298b95"
      },
      "outputs": [
        {
          "output_type": "stream",
          "name": "stdout",
          "text": [
            "두 정수 A와 B를 공백으로 구분하여 입력하세요: 2432 343241\n",
            "두 정수의 합: 345673\n"
          ]
        }
      ],
      "source": [
        "A, B = map(int, input(\"두 정수 A와 B를 공백으로 구분하여 입력하세요: \").split())\n",
        "sum_result = A + B\n",
        "print(\"두 정수의 합:\", sum_result)"
      ]
    },
    {
      "cell_type": "code",
      "source": [
        "print(\"Hello Python\")"
      ],
      "metadata": {
        "colab": {
          "base_uri": "https://localhost:8080/"
        },
        "id": "rl66bcS-_fOW",
        "outputId": "dd5dfde3-7c15-4093-a8d6-3eebbc471722"
      },
      "execution_count": 2,
      "outputs": [
        {
          "output_type": "stream",
          "name": "stdout",
          "text": [
            "Hello Python\n"
          ]
        }
      ]
    },
    {
      "cell_type": "code",
      "source": [
        "a, b = map(int, input().split())\n",
        "\n",
        "if a > b:\n",
        "  print('>')\n",
        "elif a < b:\n",
        "  print('<')\n",
        "else:\n",
        "  print('==')\n"
      ],
      "metadata": {
        "colab": {
          "base_uri": "https://localhost:8080/"
        },
        "id": "Nwml8nOl_mGd",
        "outputId": "88a520d7-b153-4f05-f593-5aa4e12dee67"
      },
      "execution_count": 3,
      "outputs": [
        {
          "output_type": "stream",
          "name": "stdout",
          "text": [
            "3 51\n",
            "<\n"
          ]
        }
      ]
    },
    {
      "cell_type": "code",
      "source": [
        "A,B = map(int, input().split())\n",
        "\n",
        "if A>B:\n",
        "   print(\">\")\n",
        "elif A<B:\n",
        "   print(\"<\")\n",
        "else:\n",
        "   print(\"==\")\n"
      ],
      "metadata": {
        "colab": {
          "base_uri": "https://localhost:8080/"
        },
        "id": "BUMIFhawCGqG",
        "outputId": "bbb762ab-af7a-467d-d9b5-cef2f5cf316e"
      },
      "execution_count": 4,
      "outputs": [
        {
          "output_type": "stream",
          "name": "stdout",
          "text": [
            "15 15\n",
            "==\n"
          ]
        }
      ]
    }
  ]
}