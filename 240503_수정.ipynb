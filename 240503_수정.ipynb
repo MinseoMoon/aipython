{
  "nbformat": 4,
  "nbformat_minor": 0,
  "metadata": {
    "colab": {
      "provenance": [],
      "authorship_tag": "ABX9TyO+G2t63irOHWZ4txDCCqyp",
      "include_colab_link": true
    },
    "kernelspec": {
      "name": "python3",
      "display_name": "Python 3"
    },
    "language_info": {
      "name": "python"
    }
  },
  "cells": [
    {
      "cell_type": "markdown",
      "metadata": {
        "id": "view-in-github",
        "colab_type": "text"
      },
      "source": [
        "<a href=\"https://colab.research.google.com/github/MinseoMoon/aipython/blob/main/240503_%EC%88%98%EC%A0%95.ipynb\" target=\"_parent\"><img src=\"https://colab.research.google.com/assets/colab-badge.svg\" alt=\"Open In Colab\"/></a>"
      ]
    },
    {
      "cell_type": "markdown",
      "source": [
        "1부터 10까지(미포함)의 2걸음 크기의 정수값 배열을 생성해보자"
      ],
      "metadata": {
        "id": "xlYQT6aiUdED"
      }
    },
    {
      "cell_type": "code",
      "execution_count": null,
      "metadata": {
        "colab": {
          "base_uri": "https://localhost:8080/"
        },
        "id": "YtL-y2H7FSpK",
        "outputId": "81a69327-59de-4ff1-8077-7cbc03e26658"
      },
      "outputs": [
        {
          "output_type": "stream",
          "name": "stdout",
          "text": [
            "[1 3 5 7 9]\n"
          ]
        }
      ],
      "source": [
        "import numpy as np\n",
        "arr=np.arange(1,11,2)\n",
        "print(arr)"
      ]
    },
    {
      "cell_type": "markdown",
      "source": [
        "모양이 (3, 4)인 모든 값이 1인 배열을 생성해보자."
      ],
      "metadata": {
        "id": "yJq-JnreUg9b"
      }
    },
    {
      "cell_type": "code",
      "source": [
        "arr=np.ones((3,4))\n",
        "print(arr)"
      ],
      "metadata": {
        "colab": {
          "base_uri": "https://localhost:8080/"
        },
        "id": "qt9bMyplUil6",
        "outputId": "eb54741d-23f8-432d-d18b-4ed85ca23164"
      },
      "execution_count": null,
      "outputs": [
        {
          "output_type": "stream",
          "name": "stdout",
          "text": [
            "[[1. 1. 1. 1.]\n",
            " [1. 1. 1. 1.]\n",
            " [1. 1. 1. 1.]]\n"
          ]
        }
      ]
    },
    {
      "cell_type": "markdown",
      "source": [
        "0과 1사이를 10등분하고자 할 때 등분값 배열을 생성해보자"
      ],
      "metadata": {
        "id": "XpzIbiyGUyjr"
      }
    },
    {
      "cell_type": "code",
      "source": [
        "arr=np.linspace(0,1,10)\n",
        "print(arr)"
      ],
      "metadata": {
        "colab": {
          "base_uri": "https://localhost:8080/"
        },
        "id": "TuDUf5yOU0Ty",
        "outputId": "11852605-483b-4e8d-f405-e8b9c68f60b5"
      },
      "execution_count": null,
      "outputs": [
        {
          "output_type": "stream",
          "name": "stdout",
          "text": [
            "[0.         0.11111111 0.22222222 0.33333333 0.44444444 0.55555556\n",
            " 0.66666667 0.77777778 0.88888889 1.        ]\n"
          ]
        }
      ]
    },
    {
      "cell_type": "markdown",
      "source": [
        "A행렬을 생성해보자"
      ],
      "metadata": {
        "id": "TzG3C1N4Xk4c"
      }
    },
    {
      "cell_type": "code",
      "source": [
        "A = np.array(\n",
        " [[ 1, 2, 3, 4, 5],\n",
        " [ 6, 7, 8, 9, 10],\n",
        " [11, 12, 13, 14, 15],\n",
        " [16, 17, 18, 19, 20],\n",
        " [21, 22, 23, 24, 25]]\n",
        ")"
      ],
      "metadata": {
        "id": "z-B4lur4Xnyb"
      },
      "execution_count": null,
      "outputs": []
    },
    {
      "cell_type": "markdown",
      "source": [
        "A의 모양(shape)을 출력해보자."
      ],
      "metadata": {
        "id": "dWXoII3gXxKr"
      }
    },
    {
      "cell_type": "code",
      "source": [
        "print(A.shape)"
      ],
      "metadata": {
        "colab": {
          "base_uri": "https://localhost:8080/"
        },
        "id": "5vCs44_rX5A6",
        "outputId": "423f62f7-e963-4c8b-b71d-cde4fb8d71c9"
      },
      "execution_count": null,
      "outputs": [
        {
          "output_type": "stream",
          "name": "stdout",
          "text": [
            "(5, 5)\n"
          ]
        }
      ]
    },
    {
      "cell_type": "markdown",
      "source": [
        "19 값을 추출해보자"
      ],
      "metadata": {
        "id": "EXDkEXOyYBgy"
      }
    },
    {
      "cell_type": "code",
      "source": [
        "print(A[3,3])"
      ],
      "metadata": {
        "colab": {
          "base_uri": "https://localhost:8080/"
        },
        "id": "S4TnjUelYCvy",
        "outputId": "c908052e-c9cd-4702-fe41-188b02b0763b"
      },
      "execution_count": null,
      "outputs": [
        {
          "output_type": "stream",
          "name": "stdout",
          "text": [
            "19\n"
          ]
        }
      ]
    },
    {
      "cell_type": "markdown",
      "source": [
        "슬라이싱을 이용하여 [[1, 2], [6, 7]] 값을 추출해보자"
      ],
      "metadata": {
        "id": "e2q-21CyYaTT"
      }
    },
    {
      "cell_type": "code",
      "source": [
        "print(A[:2,:2])"
      ],
      "metadata": {
        "colab": {
          "base_uri": "https://localhost:8080/"
        },
        "id": "XSVCdiKFYbs7",
        "outputId": "7e1f504b-eec6-4241-ce1c-01c79f1128a5"
      },
      "execution_count": null,
      "outputs": [
        {
          "output_type": "stream",
          "name": "stdout",
          "text": [
            "[[1 2]\n",
            " [6 7]]\n"
          ]
        }
      ]
    },
    {
      "cell_type": "markdown",
      "source": [
        "슬라이싱을 이용하여 [[19, 20], [24, 25]] 값을 추출해보자"
      ],
      "metadata": {
        "id": "hHdh1aYxYu_8"
      }
    },
    {
      "cell_type": "code",
      "source": [
        "print(A[3:5,3:5])"
      ],
      "metadata": {
        "colab": {
          "base_uri": "https://localhost:8080/"
        },
        "id": "kCJD1AGcYwcT",
        "outputId": "818cc38d-6c71-4f37-9b65-584026a0da07"
      },
      "execution_count": null,
      "outputs": [
        {
          "output_type": "stream",
          "name": "stdout",
          "text": [
            "[[19 20]\n",
            " [24 25]]\n"
          ]
        }
      ]
    },
    {
      "cell_type": "markdown",
      "source": [
        "슬라이싱을 이용하여 0축의 첫 번째 행과 두 번째 행을 추출해보자"
      ],
      "metadata": {
        "id": "OmjofWagY4_L"
      }
    },
    {
      "cell_type": "code",
      "source": [
        "print(A[:2,:])"
      ],
      "metadata": {
        "colab": {
          "base_uri": "https://localhost:8080/"
        },
        "id": "SUMySuIoY6Q7",
        "outputId": "4c34e7ba-a2b4-4b3b-944a-018c4a6a3e2c"
      },
      "execution_count": null,
      "outputs": [
        {
          "output_type": "stream",
          "name": "stdout",
          "text": [
            "[[ 1  2  3  4  5]\n",
            " [ 6  7  8  9 10]]\n"
          ]
        }
      ]
    },
    {
      "cell_type": "markdown",
      "source": [
        "슬라이싱을 이용하여 1축의 마지막 열과 마지막 직전 열을 추출해보자"
      ],
      "metadata": {
        "id": "D9Hcy-j5ZaBb"
      }
    },
    {
      "cell_type": "code",
      "source": [
        "print(A[:,-2:])"
      ],
      "metadata": {
        "colab": {
          "base_uri": "https://localhost:8080/"
        },
        "id": "Ty9AyUAweSFr",
        "outputId": "da5268e2-e63b-4f2e-9b0e-8d77d89ef221"
      },
      "execution_count": null,
      "outputs": [
        {
          "output_type": "stream",
          "name": "stdout",
          "text": [
            "[[ 4  5]\n",
            " [ 9 10]\n",
            " [14 15]\n",
            " [19 20]\n",
            " [24 25]]\n"
          ]
        }
      ]
    },
    {
      "cell_type": "code",
      "source": [
        "#A행렬을 생성해보자.\n",
        "arr=np.arange(1,37)\n",
        "arr_3d=arr.reshape(3,3,4)\n",
        "print(arr_3d)\n",
        "\n",
        "#A 배열의 모양과 크기를 출력해보자.\n",
        "print(arr_3d.shape)\n",
        "print(arr_3d.size)\n",
        "\n",
        "#A의 모양을 (3, 4, 3)로 변경해보자\n",
        "a=arr_3d.reshape(3,4,3)\n",
        "print(a)\n",
        "\n",
        "#A를 1차원 배열로 구성해보자\n",
        "print(arr_3d.flatten())"
      ],
      "metadata": {
        "colab": {
          "base_uri": "https://localhost:8080/"
        },
        "id": "uUrgNujNcBRD",
        "outputId": "c5f2aa78-85a8-4738-fe90-12b4a2174f40"
      },
      "execution_count": null,
      "outputs": [
        {
          "output_type": "stream",
          "name": "stdout",
          "text": [
            "[[[ 1  2  3  4]\n",
            "  [ 5  6  7  8]\n",
            "  [ 9 10 11 12]]\n",
            "\n",
            " [[13 14 15 16]\n",
            "  [17 18 19 20]\n",
            "  [21 22 23 24]]\n",
            "\n",
            " [[25 26 27 28]\n",
            "  [29 30 31 32]\n",
            "  [33 34 35 36]]]\n",
            "(3, 3, 4)\n",
            "36\n",
            "[[[ 1  2  3]\n",
            "  [ 4  5  6]\n",
            "  [ 7  8  9]\n",
            "  [10 11 12]]\n",
            "\n",
            " [[13 14 15]\n",
            "  [16 17 18]\n",
            "  [19 20 21]\n",
            "  [22 23 24]]\n",
            "\n",
            " [[25 26 27]\n",
            "  [28 29 30]\n",
            "  [31 32 33]\n",
            "  [34 35 36]]]\n",
            "[ 1  2  3  4  5  6  7  8  9 10 11 12 13 14 15 16 17 18 19 20 21 22 23 24\n",
            " 25 26 27 28 29 30 31 32 33 34 35 36]\n"
          ]
        }
      ]
    }
  ]
}