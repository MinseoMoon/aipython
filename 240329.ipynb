{
  "nbformat": 4,
  "nbformat_minor": 0,
  "metadata": {
    "colab": {
      "provenance": [],
      "authorship_tag": "ABX9TyP8lgl3IfeMUfb8ep7uURCl",
      "include_colab_link": true
    },
    "kernelspec": {
      "name": "python3",
      "display_name": "Python 3"
    },
    "language_info": {
      "name": "python"
    }
  },
  "cells": [
    {
      "cell_type": "markdown",
      "metadata": {
        "id": "view-in-github",
        "colab_type": "text"
      },
      "source": [
        "<a href=\"https://colab.research.google.com/github/MinseoMoon/aipython/blob/main/240329.ipynb\" target=\"_parent\"><img src=\"https://colab.research.google.com/assets/colab-badge.svg\" alt=\"Open In Colab\"/></a>"
      ]
    },
    {
      "cell_type": "markdown",
      "source": [],
      "metadata": {
        "id": "pB2no_gUGE1X"
      }
    },
    {
      "cell_type": "code",
      "source": [],
      "metadata": {
        "id": "iSY2oSb6Guz3"
      },
      "execution_count": null,
      "outputs": []
    },
    {
      "cell_type": "markdown",
      "source": [
        "**1. 분을 입력받아서 시간과 분을 출력하시오.(.format 메소드 활용)\n",
        "100-> 1시간 40분**"
      ],
      "metadata": {
        "id": "fFWuAfuLGHCW"
      }
    },
    {
      "cell_type": "code",
      "source": [
        "m=int(input(\"분을 입력하시오:\"))\n",
        "minute=int(m%60)\n",
        "hour=int(m//60)\n",
        "print(\"{} -> {}시간 {}분\".format(m,hour,minute))"
      ],
      "metadata": {
        "colab": {
          "base_uri": "https://localhost:8080/"
        },
        "id": "wrf2N6v-6L2x",
        "outputId": "aa62f2d3-ab44-4719-e4a4-957fae6597bf"
      },
      "execution_count": 42,
      "outputs": [
        {
          "output_type": "stream",
          "name": "stdout",
          "text": [
            "분을 입력하시오:100\n",
            "100 -> 1시간 40분\n"
          ]
        }
      ]
    },
    {
      "cell_type": "markdown",
      "source": [
        "**2. 섭씨온도를 입력받아서 화씨온도를 출력하시오(%연산자 활용)\n",
        "계산식 F=C*1.8+32\n",
        "(섭씨 31도는 화씨 87.8도 입니다.)**"
      ],
      "metadata": {
        "id": "yZ-En7jtF32G"
      }
    },
    {
      "cell_type": "code",
      "source": [
        "c=int(input(\"섭씨온도를 입력하시오:\"))\n",
        "f=c*1.8+32\n",
        "print(\"섭씨 %d는 화씨 %.1f도 입니다\" %(c,f))"
      ],
      "metadata": {
        "colab": {
          "base_uri": "https://localhost:8080/"
        },
        "id": "6iT0NzK1CeTA",
        "outputId": "98aad03d-7197-4cf3-a638-fcf95549c4fa"
      },
      "execution_count": 44,
      "outputs": [
        {
          "output_type": "stream",
          "name": "stdout",
          "text": [
            "섭씨온도를 입력하시오:31\n",
            "섭씨 31는 화씨 87.8도 입니다\n"
          ]
        }
      ]
    },
    {
      "cell_type": "markdown",
      "source": [
        "**3. 원의 반지름을 입력받아서 원의 둘레와 면적을 출력하시오\n",
        "(반지름이 15인 원의 둘레 94.2이고 면적은 706.5입니다.)**"
      ],
      "metadata": {
        "id": "GHZiwfd-FndP"
      }
    },
    {
      "cell_type": "code",
      "source": [
        "PI=3.14\n",
        "r=int(input(\"원의 반지름을 입력하시오:\"))\n",
        "l=float(2*r*PI)\n",
        "s=float((r**2)*PI)\n",
        "print(\"반지름이 %d인 원의 둘레 %.1f이고 면적은 %.1f입니다\"%(r,l,s))"
      ],
      "metadata": {
        "colab": {
          "base_uri": "https://localhost:8080/"
        },
        "id": "ZVTOxv-nD5O_",
        "outputId": "2c360d9b-44fa-42fe-eebb-6fe14a73d329"
      },
      "execution_count": 45,
      "outputs": [
        {
          "output_type": "stream",
          "name": "stdout",
          "text": [
            "원의 반지름을 입력하시오:15\n",
            "반지름이 15인 원의 둘레 94.2이고 면적은 706.5입니다\n"
          ]
        }
      ]
    }
  ]
}